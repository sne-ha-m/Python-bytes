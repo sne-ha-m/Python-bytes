{
 "cells": [
  {
   "cell_type": "code",
   "execution_count": null,
   "metadata": {},
   "outputs": [],
   "source": [
    "import random\n",
    "#print(random.randrange(1,6))\n",
    "op = 'y'\n",
    "p1 = 0\n",
    "p2 = 0\n",
    "while (op == 'y' and p1 < 30 and p2 < 30):\n",
    "    print('P1 roll dice\\n')\n",
    "    p1 = p1 + random.randrange(1,6)\n",
    "    print(f'The sum of p1 is {p1}')\n",
    "    print('P2 roll dice\\n')\n",
    "    p2 = p2 + random.randrange(1,6)\n",
    "    print(f'The sum of p2 is {p2}') \n",
    "    if p1 < 30 and p2 < 30:\n",
    "        op = input('Do you want to continue? y or n\\n').lower()\n",
    "        \n",
    "print('game over\\n')\n"
   ]
  },
  {
   "cell_type": "code",
   "execution_count": 1,
   "metadata": {},
   "outputs": [],
   "source": [
    "def square_root(number):\n",
    "    return number**2"
   ]
  },
  {
   "cell_type": "code",
   "execution_count": 2,
   "metadata": {},
   "outputs": [
    {
     "data": {
      "text/plain": [
       "9"
      ]
     },
     "execution_count": 2,
     "metadata": {},
     "output_type": "execute_result"
    }
   ],
   "source": [
    "square_root(3)"
   ]
  },
  {
   "cell_type": "code",
   "execution_count": 5,
   "metadata": {},
   "outputs": [],
   "source": [
    "def  person(name, age):\n",
    "    print(f'Your name is: {name}')\n",
    "    print(f'Your age is: {age}')\n",
    "    "
   ]
  },
  {
   "cell_type": "code",
   "execution_count": 6,
   "metadata": {},
   "outputs": [
    {
     "name": "stdout",
     "output_type": "stream",
     "text": [
      "Your name is: Sneha\n",
      "Your age is: 26\n"
     ]
    }
   ],
   "source": [
    "person('Sneha',26)"
   ]
  },
  {
   "cell_type": "code",
   "execution_count": 7,
   "metadata": {},
   "outputs": [],
   "source": [
    "def greetings(name):\n",
    "    print(f'Hello {name}, how are you?')\n",
    "    "
   ]
  },
  {
   "cell_type": "code",
   "execution_count": 8,
   "metadata": {},
   "outputs": [
    {
     "name": "stdout",
     "output_type": "stream",
     "text": [
      "Hello Sneha, how are you?\n"
     ]
    }
   ],
   "source": [
    "greetings('Sneha')"
   ]
  },
  {
   "cell_type": "code",
   "execution_count": 18,
   "metadata": {},
   "outputs": [
    {
     "name": "stdout",
     "output_type": "stream",
     "text": [
      "Enter the number of times you would like to guess\t4\n"
     ]
    }
   ],
   "source": [
    "#Guess the number game!\n",
    "\n",
    "import random\n",
    "\n",
    "\n",
    "\n",
    "limit = input('Enter the number of times you would like to guess\\t')\n",
    "def my_range():\n",
    "    up_range = int(input('Enter your upper range\\t'))\n",
    "    lower_range = int(input('Enter your lower range\\t'))\n",
    "    return [lower_range, up_range]\n",
    "\n",
    "While game_on"
   ]
  },
  {
   "cell_type": "code",
   "execution_count": 19,
   "metadata": {},
   "outputs": [
    {
     "name": "stdout",
     "output_type": "stream",
     "text": [
      "Enter your upper range\t5\n",
      "Enter your lower range\t3\n"
     ]
    }
   ],
   "source": [
    "\n"
   ]
  },
  {
   "cell_type": "code",
   "execution_count": null,
   "metadata": {},
   "outputs": [],
   "source": [
    "if my_range[0] >= my_range[1]:\n",
    "    print('Please try again! Lower limit greater than Upper')\n",
    "    my_range = my_range()\n",
    "    \n",
    "else:\n",
    "    random_num = random.randint(my_range[0], my_range[1])\n",
    "    print(random_num)"
   ]
  }
 ],
 "metadata": {
  "kernelspec": {
   "display_name": "Python 3",
   "language": "python",
   "name": "python3"
  },
  "language_info": {
   "codemirror_mode": {
    "name": "ipython",
    "version": 3
   },
   "file_extension": ".py",
   "mimetype": "text/x-python",
   "name": "python",
   "nbconvert_exporter": "python",
   "pygments_lexer": "ipython3",
   "version": "3.7.6"
  }
 },
 "nbformat": 4,
 "nbformat_minor": 4
}
