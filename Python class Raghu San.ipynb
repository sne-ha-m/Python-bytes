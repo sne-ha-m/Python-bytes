{
 "cells": [
  {
   "cell_type": "code",
   "execution_count": null,
   "metadata": {},
   "outputs": [],
   "source": [
    "import random\n",
    "#print(random.randrange(1,6))\n",
    "op = 'y'\n",
    "p1 = 0\n",
    "p2 = 0\n",
    "while (op == 'y' and p1 < 30 and p2 < 30):\n",
    "    print('P1 roll dice\\n')\n",
    "    p1 = p1 + random.randrange(1,6)\n",
    "    print(f'The sum of p1 is {p1}')\n",
    "    print('P2 roll dice\\n')\n",
    "    p2 = p2 + random.randrange(1,6)\n",
    "    print(f'The sum of p2 is {p2}') \n",
    "    if p1 < 30 and p2 < 30:\n",
    "        op = input('Do you want to continue? y or n\\n').lower()\n",
    "        \n",
    "print('game over\\n')\n"
   ]
  },
  {
   "cell_type": "code",
   "execution_count": null,
   "metadata": {},
   "outputs": [],
   "source": [
    "def square_root(number):\n",
    "    return number**2"
   ]
  },
  {
   "cell_type": "code",
   "execution_count": null,
   "metadata": {},
   "outputs": [],
   "source": [
    "square_root(3)"
   ]
  },
  {
   "cell_type": "code",
   "execution_count": null,
   "metadata": {},
   "outputs": [],
   "source": [
    "def  person(name, age):\n",
    "    print(f'Your name is: {name}')\n",
    "    print(f'Your age is: {age}')\n",
    "    "
   ]
  },
  {
   "cell_type": "code",
   "execution_count": null,
   "metadata": {},
   "outputs": [],
   "source": [
    "person('Sneha',26)"
   ]
  },
  {
   "cell_type": "code",
   "execution_count": null,
   "metadata": {},
   "outputs": [],
   "source": [
    "def greetings(name):\n",
    "    print(f'Hello {name}, how are you?')\n",
    "    "
   ]
  },
  {
   "cell_type": "code",
   "execution_count": null,
   "metadata": {},
   "outputs": [],
   "source": [
    "greetings('Sneha')"
   ]
  },
  {
   "cell_type": "code",
   "execution_count": 32,
   "metadata": {},
   "outputs": [
    {
     "name": "stdout",
     "output_type": "stream",
     "text": [
      " You have entered a wrong number and it is lower than the number generated\n",
      "The number generated was 9 and you guessed 6\n",
      "Number of trials left : 0\n",
      "Sorry you lost!\n"
     ]
    }
   ],
   "source": [
    "#Guess the number game!\n",
    "\n",
    "import random\n",
    "from IPython.display import clear_output\n",
    "\n",
    "\n",
    "\n",
    "my_trial = int(input('Enter the number of times you would like to guess\\t'))\n",
    "\n",
    "def my_range():\n",
    "    upper_range = int(input('Enter your upper range\\t'))\n",
    "    lower_range = int(input('Enter your lower range\\t'))\n",
    "    \n",
    "    if upper_range <= lower_range:\n",
    "        print('Please try again! Lower limit greater than Upper')\n",
    "        return my_range()\n",
    "    \n",
    "    else:\n",
    "        return [lower_range, upper_range]\n",
    "\n",
    "\n",
    "    \n",
    "def trials(guess, random_num):\n",
    "    \n",
    "    clear_output()\n",
    "    \n",
    "    \n",
    "    if guess == random_num:\n",
    "        print('Won!!')\n",
    "        print(f' Your guess was {guess}')\n",
    "        print(f'The random number generated was {random_num}')\n",
    "        return True\n",
    "        \n",
    "    elif guess < random_num:\n",
    "        print(' You have entered a wrong number and it is lower than the number generated')\n",
    "        print(f'The number generated was {random_num} and you guessed {guess}')\n",
    "        \n",
    "    else:\n",
    "        print(' You have entered a wrong number and it is higher than the number generated')\n",
    "        print(f'The number generated was {random_num} and you guessed {guess}')\n",
    "\n",
    "    \n",
    "        \n",
    "my_range = my_range()\n",
    "\n",
    "while my_trial > 0:\n",
    "    random_num = random.randint(my_range[0], my_range[1])\n",
    "    guess = int(input(f'Guess a number between {my_range[0]} and {my_range[1]}\\t'))\n",
    "    \n",
    "    if guess in range(my_range[0], my_range[1]+1):\n",
    "        if trials(guess, random_num):\n",
    "            my_trial = 0\n",
    "            break\n",
    "        else:\n",
    "            my_trial -= 1\n",
    "        \n",
    "    else:\n",
    "        print('Your guess is out of the range decided. Please try again!')\n",
    "        my_trial -= 1\n",
    "    \n",
    "    print(f'Number of trials left : {my_trial}')\n",
    "        \n",
    "    if my_trial == 0:\n",
    "        print('Sorry you lost!')\n",
    "        \n",
    "      "
   ]
  },
  {
   "cell_type": "code",
   "execution_count": null,
   "metadata": {},
   "outputs": [],
   "source": []
  }
 ],
 "metadata": {
  "kernelspec": {
   "display_name": "Python 3",
   "language": "python",
   "name": "python3"
  },
  "language_info": {
   "codemirror_mode": {
    "name": "ipython",
    "version": 3
   },
   "file_extension": ".py",
   "mimetype": "text/x-python",
   "name": "python",
   "nbconvert_exporter": "python",
   "pygments_lexer": "ipython3",
   "version": "3.7.6"
  }
 },
 "nbformat": 4,
 "nbformat_minor": 4
}
