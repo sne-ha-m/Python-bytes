{
 "cells": [
  {
   "cell_type": "code",
   "execution_count": 2,
   "metadata": {},
   "outputs": [
    {
     "name": "stdout",
     "output_type": "stream",
     "text": [
      "How many letters you want?\t3\n",
      "How many numbers you want?\t3\n",
      "How many special characters you want\t3\n",
      "Your random password generated is: 8k=X2$T0)\n"
     ]
    }
   ],
   "source": [
    "#password generator\n",
    "#requirement:\n",
    "#must ask user the desired number of Alphabets, Numbers, Special Characters\n",
    "#Password length must be minimum 8 characters. Must include Upper case, Lower case, Numbers and Special Characters\n",
    "import string\n",
    "import random\n",
    "\n",
    "\n",
    "alpha = []\n",
    "\n",
    "def pw_letters():\n",
    "    \n",
    "    global alpha\n",
    "    \n",
    "    for i in range(1,letters):\n",
    "        alpha = alpha + [random.choice(string.ascii_letters)]\n",
    "        \n",
    "    if set(alpha).issubset(string.ascii_lowercase):\n",
    "        alpha = alpha + [random.choice(string.ascii_uppercase)]\n",
    "    \n",
    "    elif set(alpha).issubset(string.ascii_uppercase):\n",
    "        alpha = alpha + [random.choice(string.ascii_lowercase)]\n",
    "       \n",
    "    else:\n",
    "        alpha = alpha + [random.choice(string.ascii_letters)]\n",
    "        \n",
    "        \n",
    "    return alpha\n",
    "\n",
    "def pw_numbers():\n",
    "    \n",
    "    global alpha\n",
    "    \n",
    "    alpha = pw_letters()\n",
    "    \n",
    "    for i in range(1,numbers+1):\n",
    "        alpha = alpha + [random.choice(string.digits)]\n",
    "        \n",
    "    return alpha\n",
    "\n",
    "def pw_spl_chr():\n",
    "    \n",
    "    global alpha\n",
    "    \n",
    "    alpha = pw_numbers()\n",
    "    \n",
    "    for i in range(1,spl_ch+1):\n",
    "        alpha = alpha + [random.choice(string.punctuation)]\n",
    "    \n",
    "    return alpha\n",
    "    \n",
    "\n",
    "\n",
    "    \n",
    "flag = True\n",
    "while flag:\n",
    "    letters = int(input('How many letters you want?\\t'))\n",
    "    numbers = int(input('How many numbers you want?\\t'))\n",
    "    spl_ch  = int(input('How many special characters you want\\t'))\n",
    "    \n",
    "    if letters + numbers+ spl_ch >= 8:\n",
    "        flag = False\n",
    "        a = pw_spl_chr()\n",
    "        random.shuffle(a)\n",
    "        password = ''\n",
    "        password = password.join(a)\n",
    "        print(f'Your random password generated is: {password}')\n",
    "        \n",
    "    else:\n",
    "        print('The length of all the characters combined MUST be atleast 8. please try again!')\n",
    "\n",
    "\n",
    "\n"
   ]
  },
  {
   "cell_type": "code",
   "execution_count": null,
   "metadata": {},
   "outputs": [],
   "source": []
  }
 ],
 "metadata": {
  "kernelspec": {
   "display_name": "Python 3",
   "language": "python",
   "name": "python3"
  },
  "language_info": {
   "codemirror_mode": {
    "name": "ipython",
    "version": 3
   },
   "file_extension": ".py",
   "mimetype": "text/x-python",
   "name": "python",
   "nbconvert_exporter": "python",
   "pygments_lexer": "ipython3",
   "version": "3.7.6"
  }
 },
 "nbformat": 4,
 "nbformat_minor": 4
}
