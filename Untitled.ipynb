{
 "cells": [
  {
   "cell_type": "code",
   "execution_count": 1,
   "metadata": {},
   "outputs": [],
   "source": [
    "def player_input():\n",
    "    op = input('Player 1: You want to be X or O?').lower()\n",
    "    if op == 'x' or op == 'o':\n",
    "        print('Let us begin')\n",
    "    else:\n",
    "        print('Invalid input. pls try again')    \n",
    "        player_input()\n",
    "        "
   ]
  },
  {
   "cell_type": "code",
   "execution_count": 2,
   "metadata": {},
   "outputs": [
    {
     "name": "stdout",
     "output_type": "stream",
     "text": [
      "Player 1: You want to be X or O?y\n",
      "Invalid input. pls try again\n",
      "Player 1: You want to be X or O?x\n",
      "Let us begin\n"
     ]
    }
   ],
   "source": [
    "player_input()"
   ]
  },
  {
   "cell_type": "code",
   "execution_count": 5,
   "metadata": {},
   "outputs": [
    {
     "name": "stdout",
     "output_type": "stream",
     "text": [
      "missed number 2\n",
      "counted 6\n"
     ]
    }
   ],
   "source": [
    "counter = 0\n",
    "\n",
    "while counter < 6:\n",
    "    counter += 1\n",
    "    if counter == 2:\n",
    "        mn = counter\n",
    "        print(f'missed number {mn}')\n",
    "        continue\n",
    "print(f'counted {counter}')\n",
    "    "
   ]
  },
  {
   "cell_type": "code",
   "execution_count": 6,
   "metadata": {},
   "outputs": [
    {
     "name": "stdout",
     "output_type": "stream",
     "text": [
      "Hello\n",
      "my\n",
      "name\n",
      "is\n",
      "Sneha\n"
     ]
    }
   ],
   "source": [
    "st = 'Hello my name is Sneha'\n",
    "for i in st.split():\n",
    "    print(i)"
   ]
  },
  {
   "cell_type": "code",
   "execution_count": 1,
   "metadata": {},
   "outputs": [
    {
     "name": "stdout",
     "output_type": "stream",
     "text": [
      "P1 roll dice\n",
      "\n",
      "The sum of p1 is 3\n",
      "P2 roll dice\n",
      "\n",
      "The sum of p2 is 3\n",
      "Do you want to continue? y or n\n",
      "y\n",
      "P1 roll dice\n",
      "\n",
      "The sum of p1 is 6\n",
      "P2 roll dice\n",
      "\n",
      "The sum of p2 is 8\n",
      "Do you want to continue? y or n\n",
      "y\n",
      "P1 roll dice\n",
      "\n",
      "The sum of p1 is 11\n",
      "P2 roll dice\n",
      "\n",
      "The sum of p2 is 10\n",
      "Do you want to continue? y or n\n",
      "y\n",
      "P1 roll dice\n",
      "\n",
      "The sum of p1 is 15\n",
      "P2 roll dice\n",
      "\n",
      "The sum of p2 is 12\n",
      "Do you want to continue? y or n\n",
      "y\n",
      "P1 roll dice\n",
      "\n",
      "The sum of p1 is 19\n",
      "P2 roll dice\n",
      "\n",
      "The sum of p2 is 14\n",
      "Do you want to continue? y or n\n",
      "y\n",
      "P1 roll dice\n",
      "\n",
      "The sum of p1 is 24\n",
      "P2 roll dice\n",
      "\n",
      "The sum of p2 is 18\n",
      "Do you want to continue? y or n\n",
      "y\n",
      "P1 roll dice\n",
      "\n",
      "The sum of p1 is 28\n",
      "P2 roll dice\n",
      "\n",
      "The sum of p2 is 22\n",
      "Do you want to continue? y or n\n",
      "y\n",
      "P1 roll dice\n",
      "\n",
      "The sum of p1 is 30\n",
      "P2 roll dice\n",
      "\n",
      "The sum of p2 is 26\n",
      "game over\n",
      "\n"
     ]
    }
   ],
   "source": [
    "import random\n",
    "#print(random.randrange(1,6))\n",
    "op = 'y'\n",
    "p1 = 0\n",
    "p2 = 0\n",
    "while (op == 'y' and p1 < 30 and p2 < 30):\n",
    "    print('P1 roll dice\\n')\n",
    "    p1 = p1 + random.randrange(1,6)\n",
    "    print(f'The sum of p1 is {p1}')\n",
    "    print('P2 roll dice\\n')\n",
    "    p2 = p2 + random.randrange(1,6)\n",
    "    print(f'The sum of p2 is {p2}') \n",
    "    if p1 < 30 and p2 < 30:\n",
    "        op = input('Do you want to continue? y or n\\n').lower()\n",
    "        \n",
    "print('game over\\n')\n"
   ]
  },
  {
   "cell_type": "code",
   "execution_count": null,
   "metadata": {},
   "outputs": [],
   "source": []
  }
 ],
 "metadata": {
  "kernelspec": {
   "display_name": "Python 3",
   "language": "python",
   "name": "python3"
  },
  "language_info": {
   "codemirror_mode": {
    "name": "ipython",
    "version": 3
   },
   "file_extension": ".py",
   "mimetype": "text/x-python",
   "name": "python",
   "nbconvert_exporter": "python",
   "pygments_lexer": "ipython3",
   "version": "3.7.6"
  }
 },
 "nbformat": 4,
 "nbformat_minor": 4
}
